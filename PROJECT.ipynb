{
 "cells": [
  {
   "cell_type": "code",
   "execution_count": 15,
   "metadata": {},
   "outputs": [
    {
     "name": "stdout",
     "output_type": "stream",
     "text": [
      "WARNING:tensorflow:No training configuration found in the save file, so the model was *not* compiled. Compile it manually.\n",
      "WARNING:tensorflow:5 out of the last 483 calls to <function Model.make_predict_function.<locals>.predict_function at 0x1465050d0> triggered tf.function retracing. Tracing is expensive and the excessive number of tracings could be due to (1) creating @tf.function repeatedly in a loop, (2) passing tensors with different shapes, (3) passing Python objects instead of tensors. For (1), please define your @tf.function outside of the loop. For (2), @tf.function has experimental_relax_shapes=True option that relaxes argument shapes that can avoid unnecessary retracing. For (3), please refer to https://www.tensorflow.org/guide/function#controlling_retracing and https://www.tensorflow.org/api_docs/python/tf/function for  more details.\n",
      "TRY AGAIN\n"
     ]
    }
   ],
   "source": [
    "import cv2\n",
    "from keras.models import load_model\n",
    "import numpy as np\n",
    "import random\n",
    "model = load_model('keras_model.h5')\n",
    "cap = cv2.VideoCapture(0)\n",
    "data = np.ndarray(shape=(1, 224, 224, 3), dtype=np.float32)\n",
    "\n",
    "def compare_predictions(user_prediction, computer):\n",
    "    if user_prediction == 'ROCK':\n",
    "        if computer == 'ROCK':\n",
    "            return 'DRAW'\n",
    "        elif computer == 'PAPER':\n",
    "            return 'YOU LOSE'\n",
    "        elif computer == 'SCISSORS':\n",
    "            return 'YOU WIN'\n",
    "    elif user_prediction == 'PAPER':\n",
    "        if computer == 'ROCK':\n",
    "            return 'YOU WIN'\n",
    "        elif computer == 'PAPER':\n",
    "            return 'DRAW'\n",
    "        elif computer == 'SCISSORS':\n",
    "            return 'YOU LOSE'\n",
    "    elif user_prediction == 'SCISSORS':\n",
    "        if computer == 'ROCK':\n",
    "            return 'YOU LOSE'\n",
    "        elif computer == 'PAPER':\n",
    "            return'YOU WIN'\n",
    "        elif computer == 'SCISSORS':\n",
    "            return 'DRAW'\n",
    "    else:\n",
    "        return 'TRY AGAIN'\n",
    "\n",
    "def model_predict(prediction):\n",
    "    if prediction[0][0] > 0.5:\n",
    "        user_prediction = 'ROCK'\n",
    "    elif prediction[0][1] > 0.5:\n",
    "        user_prediction = 'PAPER'\n",
    "    elif prediction[0][2] > 0.5:\n",
    "        user_prediction = 'SCISSORS'\n",
    "    else:\n",
    "        user_prediction = 'NONE'\n",
    "    return user_prediction\n",
    "\n",
    "while True: \n",
    "    ret, frame = cap.read()\n",
    "    resized_frame = cv2.resize(frame, (224, 224), interpolation = cv2.INTER_AREA)\n",
    "    image_np = np.array(resized_frame)\n",
    "    normalized_image = (image_np.astype(np.float32) / 127.0) - 1 # Normalize the image\n",
    "    data[0] = normalized_image\n",
    "    prediction = model.predict(data)\n",
    "\n",
    "    computer = random.choice(['ROCK','PAPER', 'SCISSORS'])\n",
    "    user_prediction = model_predict(prediction)\n",
    "    game_outcome = compare_predictions(user_prediction, computer)\n",
    "    print(game_outcome)\n",
    "    \n",
    "    cv2.imshow('frame', frame)\n",
    "    \n",
    "    #print(prediction)\n",
    "    #user_prediction = input(\"Enter your move (ROCK, PAPER or SCISSORS): \")\n",
    "\n",
    "    # Press q to close the window\n",
    "    if cv2.waitKey(1) & 0xFF == ord('q'):\n",
    "        break\n",
    "            \n",
    "# After the loop release the cap object\n",
    "cap.release()\n",
    "# Destroy all the windows\n",
    "cv2.destroyAllWindows()"
   ]
  },
  {
   "cell_type": "code",
   "execution_count": 4,
   "metadata": {},
   "outputs": [
    {
     "name": "stdout",
     "output_type": "stream",
     "text": [
      "PAPER\n",
      "ROCK\n"
     ]
    }
   ],
   "source": [
    "# print(computer)\n",
    "# print(user_prediction)"
   ]
  },
  {
   "cell_type": "code",
   "execution_count": 10,
   "metadata": {},
   "outputs": [
    {
     "name": "stdout",
     "output_type": "stream",
     "text": [
      "YOU WIN\n"
     ]
    }
   ],
   "source": [
    "# # Milestone 3 task 2 - creating rock paper scissors game\n",
    "# computer = random.choice(['ROCK','PAPER', 'SCISSORS'])\n",
    "# user_prediction = input(\"Enter your move (ROCK, PAPER or SCISSORS): \")\n",
    "\n",
    "# if user_prediction == 'ROCK':\n",
    "#     if computer == 'ROCK':\n",
    "#         print('DRAW')\n",
    "#     elif computer == 'PAPER':\n",
    "#         print('YOU LOSE')\n",
    "#     elif computer == 'SCISSORS':\n",
    "#         print('YOU WIN')\n",
    "# elif user_prediction == 'PAPER':\n",
    "#     if computer == 'ROCK':\n",
    "#         print('YOU WIN')\n",
    "#     elif computer == 'PAPER':\n",
    "#         print('DRAW')\n",
    "#     elif computer == 'SCISSORS':\n",
    "#         print('YOU LOSE')\n",
    "# elif user_prediction == 'SCISSORS':\n",
    "#     if computer == 'ROCK':\n",
    "#         print('YOU LOSE')\n",
    "#     elif computer == 'PAPER':\n",
    "#         print('YOU WIN')\n",
    "#     elif computer == 'SCISSORS':\n",
    "#         print('DRAW') \n",
    "# else:\n",
    "#     print('TRY AGAIN')\n"
   ]
  },
  {
   "cell_type": "code",
   "execution_count": 12,
   "metadata": {},
   "outputs": [
    {
     "name": "stdout",
     "output_type": "stream",
     "text": [
      "YOU LOSE\n"
     ]
    }
   ],
   "source": [
    "# #Milestone 3 task 3 - turning the game into a function\n",
    "# computer = random.choice(['ROCK','PAPER', 'SCISSORS'])\n",
    "# user_prediction = input(\"Enter your move (ROCK, PAPER or SCISSORS): \")\n",
    "\n",
    "# def compare_predictions(user_prediction, computer):\n",
    "#     if user_prediction == 'ROCK':\n",
    "#         if computer == 'ROCK':\n",
    "#             return 'DRAW'\n",
    "#         elif computer == 'PAPER':\n",
    "#             return 'YOU LOSE'\n",
    "#         elif computer == 'SCISSORS':\n",
    "#             return 'YOU WIN'\n",
    "#     elif user_prediction == 'PAPER':\n",
    "#         if computer == 'ROCK':\n",
    "#             return 'YOU WIN'\n",
    "#         elif computer == 'PAPER':\n",
    "#             return 'DRAW'\n",
    "#         elif computer == 'SCISSORS':\n",
    "#             return 'YOU LOSE'\n",
    "#     elif user_prediction == 'SCISSORS':\n",
    "#         if computer == 'ROCK':\n",
    "#             return 'YOU LOSE'\n",
    "#         elif computer == 'PAPER':\n",
    "#             return'YOU WIN'\n",
    "#         elif computer == 'SCISSORS':\n",
    "#             return 'DRAW'\n",
    "#     else:\n",
    "#         return 'TRY AGAIN'\n",
    "\n",
    "# play = compare_predictions(user_prediction, computer)\n",
    "# print(play)"
   ]
  },
  {
   "cell_type": "code",
   "execution_count": null,
   "metadata": {},
   "outputs": [],
   "source": [
    "# def camera_predict(prediction):\n",
    "#     if prediction[0][0] > 0.5:\n",
    "#         user_prediction = 'ROCK'\n",
    "#     elif prediction[0][1] > 0.5:\n",
    "#         user_prediction = 'PAPER'\n",
    "#     elif prediction[0][2] > 0.5:\n",
    "#         user_prediction = 'SCISSORS'\n",
    "#     else:\n",
    "#         user_prediction = 'NONE'\n",
    "#     return user_prediction"
   ]
  }
 ],
 "metadata": {
  "interpreter": {
   "hash": "0be7c03c711c2244137785c8b3c7ae02d138b785d47970256c454efcd1736017"
  },
  "kernelspec": {
   "display_name": "Python 3.9.7 ('computer_vision')",
   "language": "python",
   "name": "python3"
  },
  "language_info": {
   "codemirror_mode": {
    "name": "ipython",
    "version": 3
   },
   "file_extension": ".py",
   "mimetype": "text/x-python",
   "name": "python",
   "nbconvert_exporter": "python",
   "pygments_lexer": "ipython3",
   "version": "3.9.7"
  },
  "orig_nbformat": 4
 },
 "nbformat": 4,
 "nbformat_minor": 2
}
